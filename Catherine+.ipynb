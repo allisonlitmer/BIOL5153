{
 "cells": [
  {
   "cell_type": "code",
   "execution_count": 1,
   "metadata": {
    "collapsed": true
   },
   "outputs": [],
   "source": [
    "#write a regular expression that will return all of the katherine's"
   ]
  },
  {
   "cell_type": "code",
   "execution_count": 49,
   "metadata": {},
   "outputs": [
    {
     "name": "stdout",
     "output_type": "stream",
     "text": [
      "Katherine\n",
      "Catheryn\n",
      "Cathryns\n",
      "Kathryn\n",
      "Katherine\n",
      "Catherine\n",
      "Kathrin\n",
      "katharine\n"
     ]
    }
   ],
   "source": [
    "import re\n",
    "\n",
    "story = 'Katherine went to the concert to see Catheryn and the Cathryns She ran into her friend Kathryn who introduced Katherine to her frined Catherine Together they enjoyed the concert while texting inaudible snippets to their mutual friend Kathrin And katharine'\n",
    "s2 = story.rsplit()\n",
    "for kath in s2:\n",
    "    if re.search(r\"[KC]ath.*r[yi]n\", kath, re.I):\n",
    "        print(kath)"
   ]
  },
  {
   "cell_type": "code",
   "execution_count": null,
   "metadata": {
    "collapsed": true
   },
   "outputs": [],
   "source": []
  },
  {
   "cell_type": "code",
   "execution_count": null,
   "metadata": {
    "collapsed": true
   },
   "outputs": [],
   "source": []
  }
 ],
 "metadata": {
  "kernelspec": {
   "display_name": "Python 3",
   "language": "python",
   "name": "python3"
  },
  "language_info": {
   "codemirror_mode": {
    "name": "ipython",
    "version": 3
   },
   "file_extension": ".py",
   "mimetype": "text/x-python",
   "name": "python",
   "nbconvert_exporter": "python",
   "pygments_lexer": "ipython3",
   "version": "3.6.1"
  }
 },
 "nbformat": 4,
 "nbformat_minor": 2
}

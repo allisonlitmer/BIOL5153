{
 "cells": [
  {
   "cell_type": "code",
   "execution_count": 1,
   "metadata": {
    "collapsed": true
   },
   "outputs": [],
   "source": [
    "# python for biologists chapter 7 exercises"
   ]
  },
  {
   "cell_type": "code",
   "execution_count": 14,
   "metadata": {
    "collapsed": true
   },
   "outputs": [],
   "source": [
    "# exercise 1\n",
    "import re"
   ]
  },
  {
   "cell_type": "code",
   "execution_count": 19,
   "metadata": {},
   "outputs": [
    {
     "name": "stdout",
     "output_type": "stream",
     "text": [
      "xkn59438\n",
      "hedle3455\n",
      "xjhd53e\n",
      "45da\n"
     ]
    }
   ],
   "source": [
    "# print names that satisfy certain criteria \n",
    "\n",
    "\n",
    "accs = [\"xkn59438\", \"yhdck2\", \"eihd39d9\", \"chdsye847\", \"hedle3455\", \"xjhd53e\", \"45da\", \"de37dp\"]\n",
    "\n",
    "for acc in accs:\n",
    "    if re.search(r'5', acc):\n",
    "        print(acc)\n"
   ]
  },
  {
   "cell_type": "code",
   "execution_count": 20,
   "metadata": {},
   "outputs": [
    {
     "name": "stdout",
     "output_type": "stream",
     "text": [
      "yhdck2\n",
      "eihd39d9\n",
      "chdsye847\n",
      "hedle3455\n",
      "xjhd53e\n",
      "45da\n",
      "de37dp\n"
     ]
    }
   ],
   "source": [
    "for acc in accs:\n",
    "    if re.search(r'[de]', acc):\n",
    "        print(acc)\n",
    "        "
   ]
  },
  {
   "cell_type": "code",
   "execution_count": 25,
   "metadata": {},
   "outputs": [
    {
     "name": "stdout",
     "output_type": "stream",
     "text": [
      "chdsye847\n",
      "hedle3455\n",
      "xjhd53e\n",
      "de37dp\n"
     ]
    }
   ],
   "source": [
    "for acc in accs:\n",
    "    if re.search(r'd.*e', acc):\n",
    "        print(acc)"
   ]
  },
  {
   "cell_type": "code",
   "execution_count": 26,
   "metadata": {},
   "outputs": [
    {
     "name": "stdout",
     "output_type": "stream",
     "text": [
      "hedle3455\n"
     ]
    }
   ],
   "source": [
    "for acc in accs:\n",
    "    if re.search(r'd.e', acc):\n",
    "        print(acc)"
   ]
  },
  {
   "cell_type": "code",
   "execution_count": 27,
   "metadata": {},
   "outputs": [
    {
     "name": "stdout",
     "output_type": "stream",
     "text": [
      "chdsye847\n",
      "hedle3455\n",
      "xjhd53e\n",
      "de37dp\n"
     ]
    }
   ],
   "source": [
    "for acc in accs:\n",
    "    if re.search(r'd.*e', acc):\n",
    "        print(acc)"
   ]
  },
  {
   "cell_type": "code",
   "execution_count": 28,
   "metadata": {},
   "outputs": [
    {
     "name": "stdout",
     "output_type": "stream",
     "text": [
      "xkn59438\n",
      "yhdck2\n",
      "xjhd53e\n"
     ]
    }
   ],
   "source": [
    "for acc in accs:\n",
    "    if re.search(r'^[xy]', acc):\n",
    "        print(acc)"
   ]
  },
  {
   "cell_type": "code",
   "execution_count": 29,
   "metadata": {},
   "outputs": [
    {
     "name": "stdout",
     "output_type": "stream",
     "text": [
      "xjhd53e\n"
     ]
    }
   ],
   "source": [
    "for acc in accs:\n",
    "    if re.search(r'^[xy].*e$', acc):\n",
    "        print(acc)"
   ]
  },
  {
   "cell_type": "code",
   "execution_count": 30,
   "metadata": {},
   "outputs": [
    {
     "name": "stdout",
     "output_type": "stream",
     "text": [
      "xkn59438\n",
      "chdsye847\n",
      "hedle3455\n"
     ]
    }
   ],
   "source": [
    "for acc in accs:\n",
    "    if re.search(r'[0123456789]{3,100}', acc):\n",
    "        print(acc)"
   ]
  },
  {
   "cell_type": "code",
   "execution_count": 31,
   "metadata": {},
   "outputs": [
    {
     "name": "stdout",
     "output_type": "stream",
     "text": [
      "45da\n",
      "de37dp\n"
     ]
    }
   ],
   "source": [
    "for acc in accs:\n",
    "    if re.search(r'd[arp]$', acc):\n",
    "        print(acc)"
   ]
  },
  {
   "cell_type": "code",
   "execution_count": 32,
   "metadata": {
    "collapsed": true
   },
   "outputs": [],
   "source": [
    "# exercise 2"
   ]
  },
  {
   "cell_type": "code",
   "execution_count": 44,
   "metadata": {},
   "outputs": [
    {
     "name": "stdout",
     "output_type": "stream",
     "text": [
      "1140\n",
      "1625\n",
      "[0, 1143, 1628, 2012]\n",
      "[0, 488, 1143, 1577, 1628, 2012, 2012]\n",
      "one fragment size is  488\n",
      "one fragment size is  655\n",
      "one fragment size is  434\n",
      "one fragment size is  51\n",
      "one fragment size is  384\n",
      "one fragment size is  0\n"
     ]
    }
   ],
   "source": [
    "#predict fragment lengths\n",
    "\n",
    "#cut positions\n",
    "dna = open('dna.txt').read().rstrip('\\n')\n",
    "for match in re.finditer(r'A[ATGC]TAAT', dna):\n",
    "    print(match.start())\n",
    "    \n",
    "#fragments\n",
    "all_cuts = [0]\n",
    "for match in re.finditer(r'A[ATGC]TAAT', dna):\n",
    "    all_cuts.append(match.start() + 3)\n",
    "all_cuts.append(len(dna))\n",
    "print(all_cuts)\n",
    "\n",
    "for match in re.finditer(r'GC[AG][AT]TG', dna):\n",
    "    all_cuts.append(match.start() + 4)\n",
    "    \n",
    "all_cuts.append(len(dna))\n",
    "sorted_cuts = sorted(all_cuts)\n",
    "print(sorted_cuts)\n",
    "    \n",
    "\n",
    "for i in range(1,len(sorted_cuts)):\n",
    "    this_cut_position = sorted_cuts[i]\n",
    "    previous_cut_position = sorted_cuts[i-1]\n",
    "    fragment_size = this_cut_position - previous_cut_position\n",
    "    print(\"one fragment size is  \"  + str(fragment_size))\n",
    "\n"
   ]
  },
  {
   "cell_type": "code",
   "execution_count": null,
   "metadata": {
    "collapsed": true
   },
   "outputs": [],
   "source": []
  }
 ],
 "metadata": {
  "kernelspec": {
   "display_name": "Python 3",
   "language": "python",
   "name": "python3"
  },
  "language_info": {
   "codemirror_mode": {
    "name": "ipython",
    "version": 3
   },
   "file_extension": ".py",
   "mimetype": "text/x-python",
   "name": "python",
   "nbconvert_exporter": "python",
   "pygments_lexer": "ipython3",
   "version": "3.6.1"
  }
 },
 "nbformat": 4,
 "nbformat_minor": 2
}

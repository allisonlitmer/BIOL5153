{
 "cells": [
  {
   "cell_type": "code",
   "execution_count": 32,
   "metadata": {
    "collapsed": true
   },
   "outputs": [],
   "source": [
    "#python for biologists chapter 3 Exercises"
   ]
  },
  {
   "cell_type": "code",
   "execution_count": 33,
   "metadata": {},
   "outputs": [
    {
     "name": "stdout",
     "output_type": "stream",
     "text": [
      "sequence is AACTTGAATACC and length is 12\n"
     ]
    }
   ],
   "source": [
    "#example on p. 58\n",
    "#open file\n",
    "my_file = open(\"dna.txt\")\n",
    "#read \n",
    "my_file_contents = my_file.read()\n",
    "#remove newline\n",
    "my_dna = my_file_contents.rstrip(\"\\n\")\n",
    "#determine length\n",
    "dna_length = len(my_dna)\n",
    "#print\n",
    "print(\"sequence is \" + my_dna + \" and length is \" + str(dna_length))"
   ]
  },
  {
   "cell_type": "code",
   "execution_count": 34,
   "metadata": {},
   "outputs": [
    {
     "data": {
      "text/plain": [
       "28"
      ]
     },
     "execution_count": 34,
     "metadata": {},
     "output_type": "execute_result"
    }
   ],
   "source": [
    "#exercise 1\n",
    "\n",
    "#name dataset\n",
    "genomic_data = open(\"genomic_dna.txt\")\n",
    "genome = genomic_data.read()\n",
    "\n",
    "#define coding and non coding\n",
    "exon1 = genome[0:62] \n",
    "intron = genome[62:90] \n",
    "exon2 = genome[90:10000]\n",
    "\n",
    "#create file\n",
    "exons = open(\"exons.txt\", \"w\")\n",
    "noncoding_file = open(\"noncoding_dna.txt\", \"w\")\n",
    "\n",
    "#write exons \n",
    "exons.write(exon1 + exon2)\n",
    "\n",
    "#write intron\n",
    "noncoding_file.write(intron)\n",
    "\n"
   ]
  },
  {
   "cell_type": "code",
   "execution_count": 35,
   "metadata": {
    "collapsed": true
   },
   "outputs": [],
   "source": [
    "#exercise 4"
   ]
  },
  {
   "cell_type": "code",
   "execution_count": 43,
   "metadata": {},
   "outputs": [
    {
     "data": {
      "text/plain": [
       "32"
      ]
     },
     "execution_count": 43,
     "metadata": {},
     "output_type": "execute_result"
    }
   ],
   "source": [
    "#create a FASTA file with 3 sequences\n",
    "\n",
    "#variables\n",
    "seq1 = \"ATCGTACGATCGATCGATCGCTAGACGTATCG\"\n",
    "head1 = \"ABC123\"\n",
    "seq2 = \"actgatcgacgatcgatcgatcacgact\"\n",
    "head2 = \"DEF456\"\n",
    "seq3 = \"ACTGAC-ACTGT--ACTGTA----CATGTG\"\n",
    "head3 = \"HIJ789\"\n",
    "\n",
    "#file\n",
    "\n",
    "dna_sequences = open(\"sequences.txt\", \"w\")\n",
    "\n",
    "#put in files\n",
    "dna_sequences.write('>' + head1 + '\\n' + seq1 + \"\\n\")\n",
    "dna_sequences.write('>' + head2 + '\\n' + seq2.upper() + \"\\n\")\n",
    "dna_sequences.write('>' + head3 + '\\n' + seq3.replace(\"-\", \"\") + \"n\")\n"
   ]
  },
  {
   "cell_type": "code",
   "execution_count": 40,
   "metadata": {
    "collapsed": true
   },
   "outputs": [],
   "source": [
    "#exercise 3"
   ]
  },
  {
   "cell_type": "code",
   "execution_count": 41,
   "metadata": {},
   "outputs": [
    {
     "data": {
      "text/plain": [
       "31"
      ]
     },
     "execution_count": 41,
     "metadata": {},
     "output_type": "execute_result"
    }
   ],
   "source": [
    "#create FASTA 1 - 3\n",
    "#1\n",
    "#variables\n",
    "seq1 = \"ATCGTACGATCGATCGATCGCTAGACGTATCG\"\n",
    "head1 = \"ABC123\"\n",
    "#create file\n",
    "seq1_file = open(\"ABC124.txt\", \"w\")\n",
    "#put in file\n",
    "seq1_file.write('>' + head1 + '\\n' + seq1)\n",
    "\n",
    "#2\n",
    "#variables\n",
    "seq2 = \"actgatcgacgatcgatcgatcacgact\"\n",
    "head2 = \"DEF456\"\n",
    "#create file\n",
    "seq2_file = open(\"DEF456.txt\", \"w\")\n",
    "#put in file\n",
    "seq2_file.write('>' + head2 + '\\n' + seq2.upper())\n",
    "\n",
    "#3\n",
    "#variables\n",
    "seq3 = \"ACTGAC-ACTGT--ACTGTA----CATGTG\"\n",
    "head3 = \"HIJ789\"\n",
    "#create file\n",
    "seq3_file = open(\"HIJ789.txt\", \"w\")\n",
    "#put in file\n",
    "seq3_file.write('>' + head3 + '\\n' + seq3.replace(\"-\", \"\"))\n"
   ]
  },
  {
   "cell_type": "code",
   "execution_count": null,
   "metadata": {
    "collapsed": true
   },
   "outputs": [],
   "source": []
  }
 ],
 "metadata": {
  "kernelspec": {
   "display_name": "Python 3",
   "language": "python",
   "name": "python3"
  },
  "language_info": {
   "codemirror_mode": {
    "name": "ipython",
    "version": 3
   },
   "file_extension": ".py",
   "mimetype": "text/x-python",
   "name": "python",
   "nbconvert_exporter": "python",
   "pygments_lexer": "ipython3",
   "version": "3.6.1"
  }
 },
 "nbformat": 4,
 "nbformat_minor": 2
}

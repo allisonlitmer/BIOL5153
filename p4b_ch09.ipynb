{
 "cells": [
  {
   "cell_type": "code",
   "execution_count": 20,
   "metadata": {
    "collapsed": true
   },
   "outputs": [],
   "source": [
    "#python for biologists chapter 9"
   ]
  },
  {
   "cell_type": "code",
   "execution_count": 21,
   "metadata": {
    "collapsed": true
   },
   "outputs": [],
   "source": [
    "#exercise 1"
   ]
  },
  {
   "cell_type": "code",
   "execution_count": 51,
   "metadata": {},
   "outputs": [],
   "source": [
    "import os"
   ]
  },
  {
   "cell_type": "code",
   "execution_count": null,
   "metadata": {},
   "outputs": [],
   "source": []
  },
  {
   "cell_type": "code",
   "execution_count": 52,
   "metadata": {},
   "outputs": [
    {
     "ename": "FileExistsError",
     "evalue": "[Errno 17] File exists: '100_199'",
     "output_type": "error",
     "traceback": [
      "\u001b[0;31m---------------------------------------------------------------------------\u001b[0m",
      "\u001b[0;31mFileExistsError\u001b[0m                           Traceback (most recent call last)",
      "\u001b[0;32m<ipython-input-52-9c535582fb75>\u001b[0m in \u001b[0;36m<module>\u001b[0;34m()\u001b[0m\n\u001b[1;32m      4\u001b[0m     \u001b[0mbin_upper\u001b[0m \u001b[0;34m=\u001b[0m \u001b[0mbin_lower\u001b[0m \u001b[0;34m+\u001b[0m \u001b[0;36m99\u001b[0m\u001b[0;34m\u001b[0m\u001b[0m\n\u001b[1;32m      5\u001b[0m     \u001b[0mbin_folder_name\u001b[0m \u001b[0;34m=\u001b[0m \u001b[0mstr\u001b[0m\u001b[0;34m(\u001b[0m\u001b[0mbin_lower\u001b[0m\u001b[0;34m)\u001b[0m \u001b[0;34m+\u001b[0m \u001b[0;34m\"_\"\u001b[0m \u001b[0;34m+\u001b[0m \u001b[0mstr\u001b[0m\u001b[0;34m(\u001b[0m\u001b[0mbin_upper\u001b[0m\u001b[0;34m)\u001b[0m\u001b[0;34m\u001b[0m\u001b[0m\n\u001b[0;32m----> 6\u001b[0;31m     \u001b[0mos\u001b[0m\u001b[0;34m.\u001b[0m\u001b[0mmkdir\u001b[0m\u001b[0;34m(\u001b[0m\u001b[0mbin_folder_name\u001b[0m\u001b[0;34m)\u001b[0m\u001b[0;34m\u001b[0m\u001b[0m\n\u001b[0m\u001b[1;32m      7\u001b[0m \u001b[0;31m#create folders\u001b[0m\u001b[0;34m\u001b[0m\u001b[0;34m\u001b[0m\u001b[0m\n\u001b[1;32m      8\u001b[0m \u001b[0;34m\u001b[0m\u001b[0m\n",
      "\u001b[0;31mFileExistsError\u001b[0m: [Errno 17] File exists: '100_199'"
     ]
    }
   ],
   "source": [
    "#find all of the files with the correct extension that we will need to read line by line\n",
    "\n",
    "for bin_lower in range(100,1000,100):\n",
    "    bin_upper = bin_lower + 99\n",
    "    bin_folder_name = str(bin_lower) + \"_\" + str(bin_upper)\n",
    "    os.mkdir(bin_folder_name)\n",
    "#create folders\n",
    "    \n",
    "seq_number = 1\n",
    "    \n",
    "for file_name in os.listdir(\".\"):\n",
    "    if file_name.endswith(\".dna\"):\n",
    "        print(\"reading sequences from \" + file_name)\n",
    "        dna_file = open(file_name)\n",
    "        for line in dna_file:\n",
    "            dna = line.rstrip(\"\\n\")\n",
    "            length = len(dna)\n",
    "            print(str(length))\n",
    "            for bin_lower in range (100,1000,100):\n",
    "                bin_upper = bin_lower + 99\n",
    "                if length >= bin_lower and length < bin_upper:\n",
    "                   print(\"bin is +\" + str(bin_lower) + \" to\" + str(bin_upper))\n",
    "                   bin_folder_name = str(bin_lower) + \"_\" + str(bin_upper)\n",
    "                   output_path = bin_folder_name + '/' + str(seq_number) + '.dna'\n",
    "                   output = opne(output_path, \"w\")\n",
    "                   output.write(dna)\n",
    "                   output.close()\n",
    "                    \n",
    "                   seq_number = seq_number+1\n",
    "                \n",
    "                   \n",
    "                    "
   ]
  },
  {
   "cell_type": "code",
   "execution_count": 53,
   "metadata": {},
   "outputs": [],
   "source": [
    "#exercise 2\n",
    "   "
   ]
  },
  {
   "cell_type": "code",
   "execution_count": 66,
   "metadata": {},
   "outputs": [
    {
     "ename": "SyntaxError",
     "evalue": "invalid syntax (<ipython-input-66-04200bcc7da2>, line 39)",
     "output_type": "error",
     "traceback": [
      "\u001b[0;36m  File \u001b[0;32m\"<ipython-input-66-04200bcc7da2>\"\u001b[0;36m, line \u001b[0;32m39\u001b[0m\n\u001b[0;31m    python kmer_counting.py 6 25\u001b[0m\n\u001b[0m                       ^\u001b[0m\n\u001b[0;31mSyntaxError\u001b[0m\u001b[0;31m:\u001b[0m invalid syntax\n"
     ]
    }
   ],
   "source": [
    "import os \n",
    "import sys \n",
    " \n",
    "# convert command line arguments to variables \n",
    "kmer_size = int(sys.argv[1]) \n",
    "count_cutoff = int(sys.argv[2]) \n",
    " \n",
    "# define the function to split \n",
    "def split_dna(dna, kmer_size):\n",
    "    kmers = []\n",
    "    for start in range(0,len(dna)-(kmer_size-1),1):\n",
    "        kmer = dna[start:start+kmer_size]\n",
    "        kmers.append(kmer)\n",
    "    return kmers \n",
    " \n",
    "    \n",
    "# create an empty dictionary to hold the counts \n",
    "kmer_counts = {} \n",
    " \n",
    "# process each file with the right name \n",
    "for file_name in os.listdir(\".\"):\n",
    "    if file_name.endswith(\".dna\"):\n",
    "        dna_file = open(file_name) \n",
    " \n",
    "        # process each DNA sequence in a file\n",
    "        for line in dna_file:\n",
    "            dna = line.rstrip(\"\\n\") \n",
    " \n",
    "            # increase the count for each k-mer that we find\n",
    "            for kmer in split_dna(dna, kmer_size):\n",
    "                current_count = kmer_counts.get(kmer, 0)\n",
    "                new_count = current_count + 1\n",
    "                kmer_counts[kmer] = new_count \n",
    " \n",
    "# print k-mers whose counts are above the cutoff \n",
    "for kmer, count in kmer_counts.items():\n",
    "    if count > count_cutoff:\n",
    "        print(kmer + \" : \" + str(count)) \n",
    "        python kmer_counting.py 6 25\n",
    "        python kmer_counting.py 3 900\n",
    "\n"
   ]
  },
  {
   "cell_type": "code",
   "execution_count": null,
   "metadata": {},
   "outputs": [],
   "source": []
  },
  {
   "cell_type": "code",
   "execution_count": null,
   "metadata": {},
   "outputs": [],
   "source": []
  },
  {
   "cell_type": "code",
   "execution_count": null,
   "metadata": {
    "collapsed": true
   },
   "outputs": [],
   "source": []
  }
 ],
 "metadata": {
  "kernelspec": {
   "display_name": "Python 3",
   "language": "python",
   "name": "python3"
  },
  "language_info": {
   "codemirror_mode": {
    "name": "ipython",
    "version": 3
   },
   "file_extension": ".py",
   "mimetype": "text/x-python",
   "name": "python",
   "nbconvert_exporter": "python",
   "pygments_lexer": "ipython3",
   "version": "3.6.1"
  }
 },
 "nbformat": 4,
 "nbformat_minor": 2
}
